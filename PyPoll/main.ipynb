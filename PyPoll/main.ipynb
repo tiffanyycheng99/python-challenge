{
 "cells": [
  {
   "cell_type": "markdown",
   "metadata": {},
   "source": [
    "## PyPoll\n",
    "\n",
    "* In this challenge, you are tasked with helping a small, rural town modernize its vote counting process.\n",
    "\n",
    "* You will be give a set of poll data called [election_data.csv](PyPoll/Resources/election_data.csv). The dataset is composed of three columns: `Voter ID`, `County`, and `Candidate`. Your task is to create a Python script that analyzes the votes and calculates each of the following:\n",
    "\n",
    "  * The total number of votes cast\n",
    "\n",
    "  * A complete list of candidates who received votes\n",
    "\n",
    "  * The percentage of votes each candidate won\n",
    "\n",
    "  * The total number of votes each candidate won\n",
    "\n",
    "  * The winner of the election based on popular vote.\n",
    "\n",
    "* As an example, your analysis should look similar to the one below:\n",
    "\n",
    "  ```text\n",
    "  Election Results\n",
    "  -------------------------\n",
    "  Total Votes: 3521001\n",
    "  -------------------------\n",
    "  Khan: 63.000% (2218231)\n",
    "  Correy: 20.000% (704200)\n",
    "  Li: 14.000% (492940)\n",
    "  O'Tooley: 3.000% (105630)\n",
    "  -------------------------\n",
    "  Winner: Khan\n",
    "  -------------------------\n",
    "  ```\n",
    "\n",
    "* In addition, your final script should both print the analysis to the terminal and export a text file with the results."
   ]
  },
  {
   "cell_type": "code",
   "execution_count": null,
   "metadata": {},
   "outputs": [],
   "source": [
    "# Dependencies\n",
    "\n",
    "import os\n",
    "import csv"
   ]
  },
  {
   "cell_type": "code",
   "execution_count": null,
   "metadata": {},
   "outputs": [],
   "source": [
    "# Assign election_data.csv file path\n",
    "election_data_csv = os.path.join(\"Resources\",\"election_data.csv\")"
   ]
  },
  {
   "cell_type": "code",
   "execution_count": null,
   "metadata": {},
   "outputs": [],
   "source": [
    "# Create Variables for key totals/calculation/analysis\n",
    "total_votes=0\n",
    "candidate_list=[\"Khan\",\"Correy\",\"Li\",\"O'Tooley\"]\n",
    "\n",
    "candidate_votes=[0,0,0,0]\n",
    "candidate_dict = dict(zip(candidate_list,candidate_votes))\n",
    "\n",
    "per=[0.0,0.0,0.0,0.0]\n",
    "candidate_per = dict(zip(candidate_list,per))\n",
    "\n",
    "highest_votes=0.0\n",
    "winner=\"\""
   ]
  },
  {
   "cell_type": "code",
   "execution_count": null,
   "metadata": {},
   "outputs": [],
   "source": [
    "# Open and read election_data.csv\n",
    "with open(election_data_csv, newline = \"\") as csvfile:\n",
    "    csvreader = csv.reader(csvfile, delimiter = \",\")\n",
    "    next(csvreader)\n",
    "    \n",
    "    # Increment cumulative total votes for each candidate in candidate_dict dictionary\n",
    "    for row in csvreader:\n",
    "        total_votes += 1\n",
    "        if row[2] in candidate_dict:\n",
    "            candidate_dict[row[2]] +=1"
   ]
  },
  {
   "cell_type": "code",
   "execution_count": null,
   "metadata": {},
   "outputs": [],
   "source": [
    "# Get percentages of votes each candidate won in candidate_per dictionary\n",
    "for i in candidate_list:\n",
    "    candidate_per[i] = \"{:.3%}\".format(candidate_dict[i]/float(total_votes))\n",
    "    \n",
    "    # Conditionals to reference for candidate with highest vote\n",
    "    if candidate_dict[i] > highest_votes:\n",
    "        highest_votes = candidate_dict[i]\n",
    "        winner = i"
   ]
  },
  {
   "cell_type": "code",
   "execution_count": null,
   "metadata": {},
   "outputs": [],
   "source": [
    "# Print the Financial Analysis\n",
    "\n",
    "print(\"Election Results\")\n",
    "print(\"----------------------------\")\n",
    "print(f\"Total Votes: {total_votes}\" )\n",
    "print(\"----------------------------\")\n",
    "\n",
    "for x in candidate_list:\n",
    "    print(f\"{x}: {candidate_per[x]} ({candidate_dict[x]})\")\n",
    "\n",
    "print(\"----------------------------\")\n",
    "print(f\"Winner: {winner} \")\n",
    "print(\"----------------------------\")"
   ]
  },
  {
   "cell_type": "code",
   "execution_count": null,
   "metadata": {},
   "outputs": [],
   "source": [
    "# Writing a CSV file\n",
    "\n",
    "output_path = os.path.join(\"election_results.csv\")\n",
    "\n",
    "with open(output_path, 'w', newline = '') as csvfile:\n",
    "    \n",
    "    # Initialize csv.writer\n",
    "    csvwriter = csv.writer(csvfile,delimiter = ',')\n",
    "    \n",
    "    # Write the Financial Analysis\n",
    "\n",
    "    csvwriter.writerow([\"Election Results\"])\n",
    "    csvwriter.writerow([\"----------------------------\"])\n",
    "    csvwriter.writerow([f\"Total Votes: {total_votes}\" ])\n",
    "    csvwriter.writerow([\"----------------------------\"])\n",
    "\n",
    "    for x in candidate_list:\n",
    "        csvwriter.writerow([f\"{x}: {candidate_per[x]} ({candidate_dict[x]})\"])\n",
    "\n",
    "    csvwriter.writerow([\"----------------------------\"])\n",
    "    csvwriter.writerow([f\"Winner: {winner} \"])\n",
    "    csvwriter.writerow([\"----------------------------\"])"
   ]
  }
 ],
 "metadata": {
  "kernelspec": {
   "display_name": "Python 3",
   "language": "python",
   "name": "python3"
  },
  "language_info": {
   "codemirror_mode": {
    "name": "ipython",
    "version": 3
   },
   "file_extension": ".py",
   "mimetype": "text/x-python",
   "name": "python",
   "nbconvert_exporter": "python",
   "pygments_lexer": "ipython3",
   "version": "3.8.5"
  }
 },
 "nbformat": 4,
 "nbformat_minor": 4
}
