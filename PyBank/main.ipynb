{
 "cells": [
  {
   "cell_type": "markdown",
   "metadata": {},
   "source": [
    "## PyBank\n",
    "\n",
    "\n",
    "* In this challenge, you are tasked with creating a Python script for analyzing the financial records of your company. You will give a set of financial data called [budget_data.csv](PyBank/Resources/budget_data.csv). The dataset is composed of two columns: `Date` and `Profit/Losses`. (Thankfully, your company has rather lax standards for accounting so the records are simple.)\n",
    "\n",
    "* Your task is to create a Python script that analyzes the records to calculate each of the following:\n",
    "\n",
    "  * The total number of months included in the dataset\n",
    "\n",
    "  * The net total amount of \"Profit/Losses\" over the entire period\n",
    "\n",
    "  * Calculate the changes in \"Profit/Losses\" over the entire period, then find the average of those changes\n",
    "\n",
    "  * The greatest increase in profits (date and amount) over the entire period\n",
    "\n",
    "  * The greatest decrease in losses (date and amount) over the entire period\n",
    "\n",
    "* As an example, your analysis should look similar to the one below:\n",
    "\n",
    "  ```text\n",
    "  Financial Analysis\n",
    "  ----------------------------\n",
    "  Total Months: 86\n",
    "  Total: $38382578\n",
    "  Average  Change: $-2315.12\n",
    "  Greatest Increase in Profits: Feb-2012 ($1926159)\n",
    "  Greatest Decrease in Profits: Sep-2013 ($-2196167)\n",
    "  ```\n",
    "\n",
    "* In addition, your final script should both print the analysis to the terminal and export a text file with the results."
   ]
  },
  {
   "cell_type": "code",
   "execution_count": 14,
   "metadata": {},
   "outputs": [],
   "source": [
    "# Dependencies\n",
    "import os\n",
    "import csv"
   ]
  },
  {
   "cell_type": "code",
   "execution_count": 15,
   "metadata": {},
   "outputs": [],
   "source": [
    "# Assign budget_data.csv file path\n",
    "budget_data_csv = os.path.join('Resources','budget_data.csv')"
   ]
  },
  {
   "cell_type": "code",
   "execution_count": 16,
   "metadata": {},
   "outputs": [],
   "source": [
    "# Create Variables for key totals/calculations\n",
    "total_months=0 \n",
    "total_net_profit=0 \n",
    "\n",
    "current_profit=0  # constant variable for the Profit/Losses of the row's month\n",
    "current_change=0  # constant variable for the Profit/Losses Change of the row's month\n",
    "change_list=[]  # list containing all the changes\n",
    "\n",
    "greatest_profit=0\n",
    "greatest_profit_month = \"\"\n",
    "greatest_loss=0\n",
    "greatest_loss_month = \"\"\n",
    "\n",
    "counter=0"
   ]
  },
  {
   "cell_type": "code",
   "execution_count": 24,
   "metadata": {},
   "outputs": [],
   "source": [
    "# Open and Read CSV; Skip first header row\n",
    "with open(budget_data_csv, newline=\"\") as csvfile:\n",
    "    csvreader = csv.reader(csvfile, delimiter = \",\")\n",
    "    next(csvreader)\n",
    "    \n",
    "    # Read through each row of data after the header\n",
    "    for row in csvreader:\n",
    "        \n",
    "        # Increment total_month counter/Assign current_profit for current month's profit-losses\n",
    "        # Cumulative sum of Profit/Losses\n",
    "        total_months += 1\n",
    "        current_profit = int(row[1])\n",
    "        total_net_profit = current_profit + total_net_profit\n",
    "        \n",
    "        # Calculate changes in Profit-Losses and add to change_list\n",
    "        current_change=int(row[1])-current_change\n",
    "        change_list.append(current_change)\n",
    "        \n",
    "        # Conditionals to reference for greatest increases and losses and their respective months\n",
    "        if current_change >  greatest_profit:\n",
    "            greatest_profit = current_change\n",
    "            greatest_profit_month = row[0]\n",
    "        \n",
    "        if current_change < greatest_loss:\n",
    "            greatest_loss = current_change\n",
    "            greatest_loss_month = row[0]\n",
    "        \n",
    "        # Reset current_change to current month's profit/loss for next row\n",
    "        current_change=int(row[1])\n",
    "\n",
    "# Delete the first entry of change_list\n",
    "change_list.pop(0)\n",
    "average_change = \"{:.2f}\".format(sum(change_list)/len(change_list))\n",
    "\n"
   ]
  },
  {
   "cell_type": "code",
   "execution_count": 25,
   "metadata": {},
   "outputs": [
    {
     "name": "stdout",
     "output_type": "stream",
     "text": [
      "Financial Analysis\n",
      "----------------------------\n",
      "Total Months: 86\n",
      "Total: $76765156\n",
      "Average Change: -2315.12\n",
      "Greatest Increase in Profits: Feb-2012 ($1926159)\n",
      "Greatest Decrease in Profits: Sep-2013 ($-2196167)\n"
     ]
    }
   ],
   "source": [
    "# Print the Financial Analysis\n",
    "\n",
    "print(\"Financial Analysis\")\n",
    "print(\"----------------------------\")\n",
    "print(f\"Total Months: {total_months}\" )\n",
    "print(f\"Total: ${total_net_profit}\" )\n",
    "print(f\"Average Change: {average_change}\" )\n",
    "print(f\"Greatest Increase in Profits: {greatest_profit_month} (${greatest_profit})\" )\n",
    "print(f\"Greatest Decrease in Profits: {greatest_loss_month} (${greatest_loss})\" )"
   ]
  },
  {
   "cell_type": "code",
   "execution_count": 26,
   "metadata": {},
   "outputs": [],
   "source": [
    "# Writing a CSV file\n",
    "\n",
    "output_path = os.path.join(\"financial_analysis.csv\")\n",
    "\n",
    "with open(output_path, 'w', newline = '') as csvfile:\n",
    "    \n",
    "    # Initialize csv.writer\n",
    "    csvwriter = csv.writer(csvfile,delimiter = ',')\n",
    "    \n",
    "    # Write the Financial Analysis\n",
    "    csvwriter.writerow([\"Financial Analysis\"])\n",
    "    csvwriter.writerow([\"----------------------------\"])\n",
    "    csvwriter.writerow([f\"Total Months: {total_months}\"])\n",
    "    csvwriter.writerow([f\"Total: ${total_net_profit}\" ])\n",
    "    csvwriter.writerow([f\"Average Change: {average_change}\"] )\n",
    "    csvwriter.writerow([f\"Greatest Increase in Profits: {greatest_profit_month} (${greatest_profit})\"] )\n",
    "    csvwriter.writerow([f\"Greatest Decrease in Profits: {greatest_loss_month} (${greatest_loss})\"])"
   ]
  },
  {
   "cell_type": "code",
   "execution_count": null,
   "metadata": {},
   "outputs": [],
   "source": []
  }
 ],
 "metadata": {
  "kernelspec": {
   "display_name": "Python 3",
   "language": "python",
   "name": "python3"
  },
  "language_info": {
   "codemirror_mode": {
    "name": "ipython",
    "version": 3
   },
   "file_extension": ".py",
   "mimetype": "text/x-python",
   "name": "python",
   "nbconvert_exporter": "python",
   "pygments_lexer": "ipython3",
   "version": "3.8.5"
  }
 },
 "nbformat": 4,
 "nbformat_minor": 4
}
